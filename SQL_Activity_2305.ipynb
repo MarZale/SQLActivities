{
  "nbformat": 4,
  "nbformat_minor": 0,
  "metadata": {
    "colab": {
      "provenance": [],
      "toc_visible": true
    },
    "kernelspec": {
      "name": "python3",
      "display_name": "Python 3"
    },
    "language_info": {
      "name": "python"
    }
  },
  "cells": [
    {
      "cell_type": "markdown",
      "source": [
        "Exercice 1: Connectez-vous à votre serveur de base de données et imprimez sa version\n",
        "\n",
        "---\n",
        "\n"
      ],
      "metadata": {
        "id": "CB0owcVD8Pjp"
      }
    },
    {
      "cell_type": "code",
      "execution_count": 2,
      "metadata": {
        "colab": {
          "base_uri": "https://localhost:8080/"
        },
        "id": "uRqjwNOGyOny",
        "outputId": "ea86560d-0fee-4348-dd67-89ce0a5c7a56"
      },
      "outputs": [
        {
          "output_type": "stream",
          "name": "stdout",
          "text": [
            "(3, 37, 2)\n"
          ]
        }
      ],
      "source": [
        "# Let's import library first\n",
        "import sqlite3\n",
        "from sqlite3.dbapi2 import sqlite_version_info\n",
        "print(sqlite_version_info)"
      ]
    },
    {
      "cell_type": "code",
      "source": [
        "#Upload DB file\n",
        "from google.colab import files\n",
        "uploaded = files.upload()"
      ],
      "metadata": {
        "colab": {
          "base_uri": "https://localhost:8080/",
          "height": 73
        },
        "id": "Rz6mTpm24KBL",
        "outputId": "20cabcf6-1aa8-4345-840c-bc962a2f6ace"
      },
      "execution_count": 3,
      "outputs": [
        {
          "output_type": "display_data",
          "data": {
            "text/plain": [
              "<IPython.core.display.HTML object>"
            ],
            "text/html": [
              "\n",
              "     <input type=\"file\" id=\"files-2fd9417d-5d5a-4978-a436-4d3b8c752dec\" name=\"files[]\" multiple disabled\n",
              "        style=\"border:none\" />\n",
              "     <output id=\"result-2fd9417d-5d5a-4978-a436-4d3b8c752dec\">\n",
              "      Upload widget is only available when the cell has been executed in the\n",
              "      current browser session. Please rerun this cell to enable.\n",
              "      </output>\n",
              "      <script>// Copyright 2017 Google LLC\n",
              "//\n",
              "// Licensed under the Apache License, Version 2.0 (the \"License\");\n",
              "// you may not use this file except in compliance with the License.\n",
              "// You may obtain a copy of the License at\n",
              "//\n",
              "//      http://www.apache.org/licenses/LICENSE-2.0\n",
              "//\n",
              "// Unless required by applicable law or agreed to in writing, software\n",
              "// distributed under the License is distributed on an \"AS IS\" BASIS,\n",
              "// WITHOUT WARRANTIES OR CONDITIONS OF ANY KIND, either express or implied.\n",
              "// See the License for the specific language governing permissions and\n",
              "// limitations under the License.\n",
              "\n",
              "/**\n",
              " * @fileoverview Helpers for google.colab Python module.\n",
              " */\n",
              "(function(scope) {\n",
              "function span(text, styleAttributes = {}) {\n",
              "  const element = document.createElement('span');\n",
              "  element.textContent = text;\n",
              "  for (const key of Object.keys(styleAttributes)) {\n",
              "    element.style[key] = styleAttributes[key];\n",
              "  }\n",
              "  return element;\n",
              "}\n",
              "\n",
              "// Max number of bytes which will be uploaded at a time.\n",
              "const MAX_PAYLOAD_SIZE = 100 * 1024;\n",
              "\n",
              "function _uploadFiles(inputId, outputId) {\n",
              "  const steps = uploadFilesStep(inputId, outputId);\n",
              "  const outputElement = document.getElementById(outputId);\n",
              "  // Cache steps on the outputElement to make it available for the next call\n",
              "  // to uploadFilesContinue from Python.\n",
              "  outputElement.steps = steps;\n",
              "\n",
              "  return _uploadFilesContinue(outputId);\n",
              "}\n",
              "\n",
              "// This is roughly an async generator (not supported in the browser yet),\n",
              "// where there are multiple asynchronous steps and the Python side is going\n",
              "// to poll for completion of each step.\n",
              "// This uses a Promise to block the python side on completion of each step,\n",
              "// then passes the result of the previous step as the input to the next step.\n",
              "function _uploadFilesContinue(outputId) {\n",
              "  const outputElement = document.getElementById(outputId);\n",
              "  const steps = outputElement.steps;\n",
              "\n",
              "  const next = steps.next(outputElement.lastPromiseValue);\n",
              "  return Promise.resolve(next.value.promise).then((value) => {\n",
              "    // Cache the last promise value to make it available to the next\n",
              "    // step of the generator.\n",
              "    outputElement.lastPromiseValue = value;\n",
              "    return next.value.response;\n",
              "  });\n",
              "}\n",
              "\n",
              "/**\n",
              " * Generator function which is called between each async step of the upload\n",
              " * process.\n",
              " * @param {string} inputId Element ID of the input file picker element.\n",
              " * @param {string} outputId Element ID of the output display.\n",
              " * @return {!Iterable<!Object>} Iterable of next steps.\n",
              " */\n",
              "function* uploadFilesStep(inputId, outputId) {\n",
              "  const inputElement = document.getElementById(inputId);\n",
              "  inputElement.disabled = false;\n",
              "\n",
              "  const outputElement = document.getElementById(outputId);\n",
              "  outputElement.innerHTML = '';\n",
              "\n",
              "  const pickedPromise = new Promise((resolve) => {\n",
              "    inputElement.addEventListener('change', (e) => {\n",
              "      resolve(e.target.files);\n",
              "    });\n",
              "  });\n",
              "\n",
              "  const cancel = document.createElement('button');\n",
              "  inputElement.parentElement.appendChild(cancel);\n",
              "  cancel.textContent = 'Cancel upload';\n",
              "  const cancelPromise = new Promise((resolve) => {\n",
              "    cancel.onclick = () => {\n",
              "      resolve(null);\n",
              "    };\n",
              "  });\n",
              "\n",
              "  // Wait for the user to pick the files.\n",
              "  const files = yield {\n",
              "    promise: Promise.race([pickedPromise, cancelPromise]),\n",
              "    response: {\n",
              "      action: 'starting',\n",
              "    }\n",
              "  };\n",
              "\n",
              "  cancel.remove();\n",
              "\n",
              "  // Disable the input element since further picks are not allowed.\n",
              "  inputElement.disabled = true;\n",
              "\n",
              "  if (!files) {\n",
              "    return {\n",
              "      response: {\n",
              "        action: 'complete',\n",
              "      }\n",
              "    };\n",
              "  }\n",
              "\n",
              "  for (const file of files) {\n",
              "    const li = document.createElement('li');\n",
              "    li.append(span(file.name, {fontWeight: 'bold'}));\n",
              "    li.append(span(\n",
              "        `(${file.type || 'n/a'}) - ${file.size} bytes, ` +\n",
              "        `last modified: ${\n",
              "            file.lastModifiedDate ? file.lastModifiedDate.toLocaleDateString() :\n",
              "                                    'n/a'} - `));\n",
              "    const percent = span('0% done');\n",
              "    li.appendChild(percent);\n",
              "\n",
              "    outputElement.appendChild(li);\n",
              "\n",
              "    const fileDataPromise = new Promise((resolve) => {\n",
              "      const reader = new FileReader();\n",
              "      reader.onload = (e) => {\n",
              "        resolve(e.target.result);\n",
              "      };\n",
              "      reader.readAsArrayBuffer(file);\n",
              "    });\n",
              "    // Wait for the data to be ready.\n",
              "    let fileData = yield {\n",
              "      promise: fileDataPromise,\n",
              "      response: {\n",
              "        action: 'continue',\n",
              "      }\n",
              "    };\n",
              "\n",
              "    // Use a chunked sending to avoid message size limits. See b/62115660.\n",
              "    let position = 0;\n",
              "    do {\n",
              "      const length = Math.min(fileData.byteLength - position, MAX_PAYLOAD_SIZE);\n",
              "      const chunk = new Uint8Array(fileData, position, length);\n",
              "      position += length;\n",
              "\n",
              "      const base64 = btoa(String.fromCharCode.apply(null, chunk));\n",
              "      yield {\n",
              "        response: {\n",
              "          action: 'append',\n",
              "          file: file.name,\n",
              "          data: base64,\n",
              "        },\n",
              "      };\n",
              "\n",
              "      let percentDone = fileData.byteLength === 0 ?\n",
              "          100 :\n",
              "          Math.round((position / fileData.byteLength) * 100);\n",
              "      percent.textContent = `${percentDone}% done`;\n",
              "\n",
              "    } while (position < fileData.byteLength);\n",
              "  }\n",
              "\n",
              "  // All done.\n",
              "  yield {\n",
              "    response: {\n",
              "      action: 'complete',\n",
              "    }\n",
              "  };\n",
              "}\n",
              "\n",
              "scope.google = scope.google || {};\n",
              "scope.google.colab = scope.google.colab || {};\n",
              "scope.google.colab._files = {\n",
              "  _uploadFiles,\n",
              "  _uploadFilesContinue,\n",
              "};\n",
              "})(self);\n",
              "</script> "
            ]
          },
          "metadata": {}
        },
        {
          "output_type": "stream",
          "name": "stdout",
          "text": [
            "Saving Hospitalinfo.db to Hospitalinfo.db\n"
          ]
        }
      ]
    },
    {
      "cell_type": "markdown",
      "source": [
        "Exercice 2: Récupérer les informations sur l'hôpital et le médecin à l'aide de l'ID de l'hôpital et de l'ID du\n",
        "\n",
        "---\n",
        "\n"
      ],
      "metadata": {
        "id": "bkflI4104IqG"
      }
    },
    {
      "cell_type": "code",
      "source": [
        "#Define doctor's ID\n",
        "doctor_ID = 5\n",
        "\n",
        "# Connect to the database\n",
        "connection = sqlite3.connect(\"/content/Hospitalinfo.db\")\n",
        "cursor = connection.cursor()\n",
        "\n",
        "#Récupérer les informations sur le médecin à l'aide de l'ID du médecin\n",
        "cursor.execute(\"SELECT * FROM Doctor WHERE DocId = ?\", (doctor_ID,));\n",
        "print(f\"Les informations sur le médecin avec ID: {doctor_ID} \");\n",
        "rows = cursor.fetchall()\n",
        "for row in rows:\n",
        "  DocID, DocName, HospitalID, JoiningDate, Speciality, Exp, salary = row\n",
        "  print(f\"ID: {DocID}, Name: {DocName}, Specility: {Speciality}, HospitalID: {HospitalID}, Salary: {salary}, Joining Date: {JoiningDate} Experience: {Exp}\")\n",
        "\n",
        "#Récupérer les informations sur l'hôpital à l'aide de l'ID de l'hôpital\n",
        "cursor.execute(\"SELECT * FROM Hospital WHERE Id = 103\");\n",
        "print(\"\\nLes informations sur l'hôpital: \");\n",
        "rows = cursor.fetchall()\n",
        "for row in rows:\n",
        "  ID, Name, BedCount = row\n",
        "  print(f\"HospitalID: {ID}, Hospital Name: {Name}, Bed Count {BedCount}\")\n",
        "\n",
        "connection.close()"
      ],
      "metadata": {
        "colab": {
          "base_uri": "https://localhost:8080/"
        },
        "id": "jbiehNsZ7njD",
        "outputId": "8f3334c8-3056-43c3-f0ed-fafbe5c11e71"
      },
      "execution_count": 50,
      "outputs": [
        {
          "output_type": "stream",
          "name": "stdout",
          "text": [
            "Les informations sur le médecin avec ID: 5 \n",
            "ID: 5, Name: Karen, Specility: Oncologist, HospitalID: 103, Salary: 1100000.0, Joining Date: 2020-09-05 Experience: 15\n",
            "\n",
            "Les informations sur l'hôpital: \n",
            "HospitalID: 103, Hospital Name: New Amsterdam, Bed Count 200\n"
          ]
        }
      ]
    },
    {
      "cell_type": "markdown",
      "source": [
        "Exercice 3: Obtenir la liste des médecins selon la spécialité et le salaire donnés\n",
        "\n",
        "---\n",
        "\n"
      ],
      "metadata": {
        "id": "B_O1QlY18bSk"
      }
    },
    {
      "cell_type": "code",
      "source": [
        "#Define doctor's speciality and salary\n",
        "doctor_speciality = 'Pediatric'\n",
        "doctor_salary = 850000.0\n",
        "\n",
        "# Connect to the database\n",
        "connection = sqlite3.connect(\"/content/Hospitalinfo.db\")\n",
        "cursor = connection.cursor()\n",
        "\n",
        "#Obtenir la liste des médecins selon la spécialité\n",
        "cursor.execute(\"SELECT DocName, Speciality FROM Doctor WHERE Speciality = ?\", (doctor_speciality,));\n",
        "print(f\"La liste des médecins en {doctor_speciality}:\");\n",
        "rows = cursor.fetchall()\n",
        "for row in rows:\n",
        "    DocName, Speciality = row\n",
        "    print(f\"Doctor: {DocName}, Speciality: {Speciality}\")\n",
        "\n",
        "#Obtenir la liste des médecins selon le salaire donnés\n",
        "cursor.execute(\"SELECT DocName, salary FROM Doctor WHERE salary = ?\", (doctor_salary,));\n",
        "print(\"\\nLa liste des médecins selon le salaire donnés: \");\n",
        "rows = cursor.fetchall()\n",
        "for row in rows:\n",
        "    DocName, salary = row\n",
        "    print(f\"Doctor: {DocName}, Salary: {salary}\")\n",
        "\n",
        "connection.close()"
      ],
      "metadata": {
        "colab": {
          "base_uri": "https://localhost:8080/"
        },
        "id": "OAtge8fN8kWl",
        "outputId": "60203028-5061-4ba4-b22c-c4ef1d4fa7dd"
      },
      "execution_count": 48,
      "outputs": [
        {
          "output_type": "stream",
          "name": "stdout",
          "text": [
            "La liste des médecins en Pediatric:\n",
            "Doctor: Michael, Speciality: Pediatric\n",
            "Doctor: Richard, Speciality: Pediatric\n",
            "\n",
            "La liste des médecins selon le salaire donnés: \n",
            "Doctor: Linda, Salary: 850000.0\n"
          ]
        }
      ]
    },
    {
      "cell_type": "markdown",
      "source": [
        "Exercice 4: Obtenir une liste des médecins d'un hôpital donné\n",
        "\n",
        "---\n",
        "\n"
      ],
      "metadata": {
        "id": "HKNtXnQxA_A5"
      }
    },
    {
      "cell_type": "code",
      "source": [
        "# Define the Hospital Name\n",
        "hospital_name = 'Toronto Hopital'\n",
        "\n",
        "# Connect to the database\n",
        "connection = sqlite3.connect(\"/content/Hospitalinfo.db\")\n",
        "cursor = connection.cursor()\n",
        "\n",
        "#Obtenir la liste des médecins d'un hôpital donné\n",
        "query = \"\"\"\n",
        "SELECT hp.Name, DocName FROM Doctor dr\n",
        "INNER JOIN Hospital hp ON dr.HospitalID = hp.ID\n",
        "WHERE hp.Name = ?\n",
        "\"\"\"\n",
        "cursor.execute(query, (hospital_name,));\n",
        "print(f\"La liste des médecins de {hospital_name}: \");\n",
        "rows = cursor.fetchall()\n",
        "for row in rows:\n",
        "    Name, DocName = row\n",
        "    print(f\"Hospital: {Name}, Doctor: {DocName}\")\n",
        "\n",
        "connection.close()"
      ],
      "metadata": {
        "colab": {
          "base_uri": "https://localhost:8080/"
        },
        "id": "hyLYHNkyA_yD",
        "outputId": "fc5c4363-652c-44c2-b630-1162744c56f6"
      },
      "execution_count": 47,
      "outputs": [
        {
          "output_type": "stream",
          "name": "stdout",
          "text": [
            "La liste des médecins de Toronto Hopital: \n",
            "Hospital: Toronto Hopital, Doctor: Susan\n"
          ]
        }
      ]
    },
    {
      "cell_type": "markdown",
      "source": [
        "Exercice 5: Mettre à jour l'expérience des médecins en années\n",
        "\n",
        "---\n",
        "\n"
      ],
      "metadata": {
        "id": "XILOv0kGD9E0"
      }
    },
    {
      "cell_type": "code",
      "source": [
        "#Note: it doesn't work\n",
        "connection = sqlite3.connect(\"/content/Hospitalinfo.db\")\n",
        "cursor = connection.cursor()\n",
        "update_query = \"\"\"\n",
        "UPDATE Doctor\n",
        "SET Exp = CAST(Exp AS INTEGER)\n",
        "\"\"\"\n",
        "cursor.execute(update_query)\n",
        "connection.commit()\n",
        "\n",
        "verify_query = \"SELECT DocName, Exp FROM Doctor LIMIT 3\"\n",
        "cursor.execute(verify_query)\n",
        "rows = cursor.fetchall()\n",
        "\n",
        "print(\"Verification of updated years of experience and their data types:\")\n",
        "for row in rows:\n",
        "    Doc_Name, Exp = row\n",
        "    print(f\"Doctor: {Doc_Name}, Years of Experience: {Exp}, Data Type: {type(Exp)}\")\n",
        "\n",
        "connection.close()"
      ],
      "metadata": {
        "colab": {
          "base_uri": "https://localhost:8080/"
        },
        "id": "iLBRbGuVETgQ",
        "outputId": "94fe9398-ff78-443c-bfee-d802248da8de"
      },
      "execution_count": 25,
      "outputs": [
        {
          "output_type": "stream",
          "name": "stdout",
          "text": [
            "Verification of updated years of experience and their data types:\n",
            "Doctor: Michael, Years of Experience: 10, Data Type: <class 'str'>\n",
            "Doctor: Linda, Years of Experience: 5, Data Type: <class 'str'>\n",
            "Doctor: William, Years of Experience: 11, Data Type: <class 'str'>\n"
          ]
        }
      ]
    },
    {
      "cell_type": "markdown",
      "source": [],
      "metadata": {
        "id": "zvaM2GwMJB82"
      }
    },
    {
      "cell_type": "code",
      "source": [
        "#This one works but with creating a new column, which is not cool\n",
        "\n",
        "connection = sqlite3.connect(\"/content/Hospitalinfo.db\")\n",
        "cursor = connection.cursor()\n",
        "\n",
        "# Add a new column for integer values\n",
        "cursor.execute(\"ALTER TABLE Doctor ADD COLUMN ExpInt INTEGER\")\n",
        "\n",
        "# Update the new integer column with converted values\n",
        "cursor.execute(\"UPDATE Doctor SET ExpInt = CAST(Exp AS INTEGER)\")\n",
        "connection.commit()\n",
        "\n",
        "# Verify the update\n",
        "verify_query = \"SELECT DocName, ExpInt FROM Doctor LIMIT 3\"\n",
        "cursor.execute(verify_query)\n",
        "rows = cursor.fetchall()\n",
        "\n",
        "print(\"Verification of updated years of experience and their data types:\")\n",
        "for row in rows:\n",
        "    Doc_Name, ExpInt = row\n",
        "    print(f\"Doctor: {Doc_Name}, Years of Experience: {ExpInt}, Data Type: {type(ExpInt)}\")\n",
        "\n",
        "connection.close()\n"
      ],
      "metadata": {
        "colab": {
          "base_uri": "https://localhost:8080/",
          "height": 211
        },
        "id": "mTmFkVwjH9Hu",
        "outputId": "09daa080-cd76-4af7-f944-1e7488e2a58a"
      },
      "execution_count": 27,
      "outputs": [
        {
          "output_type": "error",
          "ename": "OperationalError",
          "evalue": "duplicate column name: ExpInt",
          "traceback": [
            "\u001b[0;31m---------------------------------------------------------------------------\u001b[0m",
            "\u001b[0;31mOperationalError\u001b[0m                          Traceback (most recent call last)",
            "\u001b[0;32m<ipython-input-27-111be73f6acf>\u001b[0m in \u001b[0;36m<cell line: 7>\u001b[0;34m()\u001b[0m\n\u001b[1;32m      5\u001b[0m \u001b[0;34m\u001b[0m\u001b[0m\n\u001b[1;32m      6\u001b[0m \u001b[0;31m# Add a new column for integer values\u001b[0m\u001b[0;34m\u001b[0m\u001b[0;34m\u001b[0m\u001b[0m\n\u001b[0;32m----> 7\u001b[0;31m \u001b[0mcursor\u001b[0m\u001b[0;34m.\u001b[0m\u001b[0mexecute\u001b[0m\u001b[0;34m(\u001b[0m\u001b[0;34m\"ALTER TABLE Doctor ADD COLUMN ExpInt INTEGER\"\u001b[0m\u001b[0;34m)\u001b[0m\u001b[0;34m\u001b[0m\u001b[0;34m\u001b[0m\u001b[0m\n\u001b[0m\u001b[1;32m      8\u001b[0m \u001b[0;34m\u001b[0m\u001b[0m\n\u001b[1;32m      9\u001b[0m \u001b[0;31m# Update the new integer column with converted values\u001b[0m\u001b[0;34m\u001b[0m\u001b[0;34m\u001b[0m\u001b[0m\n",
            "\u001b[0;31mOperationalError\u001b[0m: duplicate column name: ExpInt"
          ]
        }
      ]
    }
  ]
}